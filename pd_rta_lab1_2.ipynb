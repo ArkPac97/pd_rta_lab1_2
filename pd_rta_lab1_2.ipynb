{
 "cells": [
  {
   "cell_type": "markdown",
   "id": "896df27c-8166-4ce6-a351-3be68a6c5e56",
   "metadata": {},
   "source": [
    "## Zadanie 1"
   ]
  },
  {
   "cell_type": "code",
   "execution_count": 1,
   "id": "903730d8-3eb0-4402-a3a0-c5c235f2ceca",
   "metadata": {},
   "outputs": [
    {
     "name": "stdout",
     "output_type": "stream",
     "text": [
      "Overwriting app.py\n"
     ]
    }
   ],
   "source": [
    "%%file app.py\n",
    "from flask import Flask\n",
    "\n",
    "app = Flask(__name__)\n",
    "\n",
    "@app.route('/')\n",
    "def home():\n",
    "    return 'Witaj w moim API!'\n",
    "\n",
    "if __name__ == '__main__':\n",
    "    app.run(debug=True)"
   ]
  },
  {
   "cell_type": "code",
   "execution_count": 3,
   "id": "71340da4-4507-4891-9fe3-dedeafa6fe03",
   "metadata": {},
   "outputs": [
    {
     "name": "stdout",
     "output_type": "stream",
     "text": [
      "Odpowiedź z API: Witaj w moim API!\n"
     ]
    }
   ],
   "source": [
    "import requests\n",
    "\n",
    "response = requests.get(\"http://127.0.0.1:5000/\")\n",
    "\n",
    "if response.status_code == 200:\n",
    "    print(\"Odpowiedź z API:\", response.text)\n",
    "else:\n",
    "    print(\"Błąd:\", response.status_code)\n"
   ]
  },
  {
   "cell_type": "markdown",
   "id": "c80746f0-b357-40a1-bc55-41b318572716",
   "metadata": {},
   "source": [
    "## Zadanie 2"
   ]
  },
  {
   "cell_type": "code",
   "execution_count": 4,
   "id": "2b0e4f8f-92f9-4da8-b1f1-4201ee838598",
   "metadata": {},
   "outputs": [
    {
     "name": "stdout",
     "output_type": "stream",
     "text": [
      "Overwriting app.py\n"
     ]
    }
   ],
   "source": [
    "%%file app.py\n",
    "from flask import Flask\n",
    "\n",
    "app = Flask(__name__)\n",
    "\n",
    "@app.route('/')\n",
    "def home():\n",
    "    return 'Witaj w moim API!'\n",
    "\n",
    "@app.route('/mojastrona')\n",
    "def my_page():\n",
    "    return 'To jest moja strona!'\n",
    "\n",
    "if __name__ == '__main__':\n",
    "    app.run(debug=True)"
   ]
  },
  {
   "cell_type": "markdown",
   "id": "50b26ef6-e66c-4a4e-a742-a87e4dfd2713",
   "metadata": {},
   "source": [
    "## Zadanie 3"
   ]
  },
  {
   "cell_type": "code",
   "execution_count": 1,
   "id": "14468542-5e56-432e-9814-6c1c9d47a8b1",
   "metadata": {},
   "outputs": [
    {
     "name": "stdout",
     "output_type": "stream",
     "text": [
      "Serwer Flask został uruchomiony.\n"
     ]
    }
   ],
   "source": [
    "import subprocess\n",
    "\n",
    "server = subprocess.Popen([\"python\", \"app.py\"])\n",
    "print(\"Serwer Flask został uruchomiony.\")"
   ]
  },
  {
   "cell_type": "code",
   "execution_count": 2,
   "id": "bd212c53-f060-4349-9294-4d082de60077",
   "metadata": {},
   "outputs": [
    {
     "name": "stdout",
     "output_type": "stream",
     "text": [
      "Odpowiedź z API: To jest moja strona!\n"
     ]
    }
   ],
   "source": [
    "import requests\n",
    "import time\n",
    "\n",
    "time.sleep(1)\n",
    "\n",
    "response = requests.get(\"http://127.0.0.1:5000/mojastrona\")\n",
    "\n",
    "if response.status_code == 200:\n",
    "    print(\"Odpowiedź z API:\", response.text)\n",
    "else:\n",
    "    print(\"Błąd:\", response.status_code)\n"
   ]
  },
  {
   "cell_type": "code",
   "execution_count": 3,
   "id": "33929217-c6f2-49dd-b169-17feacd8ca7c",
   "metadata": {},
   "outputs": [
    {
     "name": "stdout",
     "output_type": "stream",
     "text": [
      "Serwer Flask został zatrzymany.\n"
     ]
    }
   ],
   "source": [
    "server.kill()\n",
    "print(\"Serwer Flask został zatrzymany.\")"
   ]
  },
  {
   "cell_type": "markdown",
   "id": "435e7a51-474b-4d9a-9d1e-413d348611af",
   "metadata": {},
   "source": [
    "## Zadanie 4"
   ]
  },
  {
   "cell_type": "code",
   "execution_count": 4,
   "id": "161ad5c4-c354-4fe6-8fba-0cc266358dae",
   "metadata": {},
   "outputs": [
    {
     "name": "stdout",
     "output_type": "stream",
     "text": [
      "Overwriting app.py\n"
     ]
    }
   ],
   "source": [
    "%%file app.py\n",
    "from flask import Flask, request\n",
    "\n",
    "app = Flask(__name__)\n",
    "\n",
    "@app.route('/')\n",
    "def home():\n",
    "    return 'Witaj w moim API!'\n",
    "\n",
    "@app.route('/mojastrona')\n",
    "def my_page():\n",
    "    return 'To jest moja strona!'\n",
    "\n",
    "@app.route('/hello')\n",
    "def hello():\n",
    "    name = request.args.get('name')\n",
    "    if name:\n",
    "        return f\"Hello {name}!\"\n",
    "    else:\n",
    "        return \"Hello!\"\n",
    "\n",
    "if __name__ == '__main__':\n",
    "    app.run(debug=True)"
   ]
  },
  {
   "cell_type": "code",
   "execution_count": 5,
   "id": "57fb3b0b-9357-4b2b-ab17-c1b58ad753da",
   "metadata": {},
   "outputs": [
    {
     "name": "stdout",
     "output_type": "stream",
     "text": [
      "Serwer Flask działa.\n"
     ]
    }
   ],
   "source": [
    "import subprocess\n",
    "\n",
    "server = subprocess.Popen([\"python\", \"app.py\"])\n",
    "print(\"Serwer Flask działa.\")"
   ]
  },
  {
   "cell_type": "code",
   "execution_count": 6,
   "id": "c49a2246-0b59-4bb6-9737-12d6feedeeae",
   "metadata": {},
   "outputs": [
    {
     "name": "stdout",
     "output_type": "stream",
     "text": [
      "Hello!\n",
      "Hello Arek!\n"
     ]
    }
   ],
   "source": [
    "import requests\n",
    "\n",
    "res1 = requests.get(\"http://127.0.0.1:5000/hello\")\n",
    "print(res1.content.decode())\n",
    "\n",
    "res2 = requests.get(\"http://127.0.0.1:5000/hello?name=Arek\")\n",
    "print(res2.content.decode())"
   ]
  },
  {
   "cell_type": "code",
   "execution_count": 7,
   "id": "3af1301a-6961-4b3b-b919-cae74320dc29",
   "metadata": {},
   "outputs": [
    {
     "name": "stdout",
     "output_type": "stream",
     "text": [
      "Serwer został zatrzymany.\n"
     ]
    }
   ],
   "source": [
    "server.kill()\n",
    "print(\"Serwer został zatrzymany.\")"
   ]
  },
  {
   "cell_type": "markdown",
   "id": "7935d293-ad9d-49f2-810f-7586c85cf431",
   "metadata": {},
   "source": [
    "## Zadanie 5"
   ]
  },
  {
   "cell_type": "code",
   "execution_count": 8,
   "id": "e0555d2b-c276-4fce-97c1-49f14c0fb5b6",
   "metadata": {},
   "outputs": [
    {
     "name": "stdout",
     "output_type": "stream",
     "text": [
      "Overwriting app.py\n"
     ]
    }
   ],
   "source": [
    "%%file app.py\n",
    "from flask import Flask, request, jsonify\n",
    "\n",
    "app = Flask(__name__)\n",
    "\n",
    "@app.route('/')\n",
    "def home():\n",
    "    return 'Witaj w moim API!'\n",
    "\n",
    "@app.route('/mojastrona')\n",
    "def my_page():\n",
    "    return 'To jest moja strona!'\n",
    "\n",
    "@app.route('/hello')\n",
    "def hello():\n",
    "    name = request.args.get('name')\n",
    "    if name:\n",
    "        return f\"Hello {name}!\"\n",
    "    else:\n",
    "        return \"Hello!\"\n",
    "\n",
    "@app.route('/api/v1.0/predict')\n",
    "def predict():\n",
    "    try:\n",
    "        num1 = float(request.args.get('num1', 0))\n",
    "        num2 = float(request.args.get('num2', 0))\n",
    "    except (TypeError, ValueError):\n",
    "        return jsonify({\"error\": \"Invalid input\"}), 400\n",
    "\n",
    "    total = num1 + num2\n",
    "    prediction = 1 if total > 5.8 else 0\n",
    "\n",
    "    return jsonify({\n",
    "        \"prediction\": prediction,\n",
    "        \"features\": {\n",
    "            \"num1\": num1,\n",
    "            \"num2\": num2\n",
    "        }\n",
    "    })\n",
    "\n",
    "if __name__ == '__main__':\n",
    "    app.run(debug=True)"
   ]
  },
  {
   "cell_type": "code",
   "execution_count": 9,
   "id": "d6180e96-1553-4020-b001-e2906e7fb778",
   "metadata": {},
   "outputs": [
    {
     "name": "stdout",
     "output_type": "stream",
     "text": [
      "Serwer Flask został uruchomiony.\n"
     ]
    }
   ],
   "source": [
    "import subprocess\n",
    "\n",
    "server = subprocess.Popen([\"python\", \"app.py\"])\n",
    "print(\"Serwer Flask został uruchomiony.\")"
   ]
  },
  {
   "cell_type": "code",
   "execution_count": 10,
   "id": "b391e131-02de-4561-b4f4-595c0018f0e4",
   "metadata": {},
   "outputs": [
    {
     "name": "stdout",
     "output_type": "stream",
     "text": [
      "{'features': {'num1': 3.0, 'num2': 4.0}, 'prediction': 1}\n"
     ]
    }
   ],
   "source": [
    "import requests\n",
    "\n",
    "res = requests.get(\"http://127.0.0.1:5000/api/v1.0/predict?num1=3&num2=4\")\n",
    "print(res.json())"
   ]
  },
  {
   "cell_type": "code",
   "execution_count": 11,
   "id": "5cb7bc63-75c3-4c96-93a8-35c1981f4427",
   "metadata": {},
   "outputs": [
    {
     "name": "stdout",
     "output_type": "stream",
     "text": [
      "Serwer został zatrzymany.\n"
     ]
    }
   ],
   "source": [
    "server.kill()\n",
    "print(\"Serwer został zatrzymany.\")"
   ]
  },
  {
   "cell_type": "code",
   "execution_count": null,
   "id": "8e094e3a-8cfd-4bdb-92c1-cda091e2acd6",
   "metadata": {},
   "outputs": [],
   "source": []
  }
 ],
 "metadata": {
  "kernelspec": {
   "display_name": "Python 3 (ipykernel)",
   "language": "python",
   "name": "python3"
  },
  "language_info": {
   "codemirror_mode": {
    "name": "ipython",
    "version": 3
   },
   "file_extension": ".py",
   "mimetype": "text/x-python",
   "name": "python",
   "nbconvert_exporter": "python",
   "pygments_lexer": "ipython3",
   "version": "3.11.7"
  }
 },
 "nbformat": 4,
 "nbformat_minor": 5
}
